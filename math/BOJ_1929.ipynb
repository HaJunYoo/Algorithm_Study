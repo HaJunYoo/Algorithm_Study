{
 "cells": [
  {
   "cell_type": "code",
   "execution_count": null,
   "metadata": {
    "collapsed": true
   },
   "outputs": [],
   "source": [
    "m, n = map(int, input().split())\n",
    "\n",
    "def boolean(number):\n",
    "    div = number-1\n",
    "    if number > 1:\n",
    "        while div > 1:\n",
    "            if number % div == 0:\n",
    "                return False\n",
    "            else:\n",
    "                div -= 1\n",
    "\n",
    "        return True\n",
    "    else:\n",
    "        return False\n",
    "\n",
    "# print(boolean(3))\n",
    "for num in range(m, n + 1):\n",
    "    if boolean(num):\n",
    "        print(num)"
   ]
  },
  {
   "cell_type": "markdown",
   "source": [
    "위의 풀이는 시간초과에 걸린다."
   ],
   "metadata": {
    "collapsed": false
   }
  },
  {
   "cell_type": "code",
   "execution_count": null,
   "outputs": [],
   "source": [
    "m, n = map(int, input().split())\n",
    "\n",
    "def boolean(number):\n",
    "    div = number - 1\n",
    "    if number > 1:\n",
    "        while div > 1:\n",
    "            if number % div == 0:\n",
    "                return False\n",
    "            else:\n",
    "                div -= 1\n",
    "\n",
    "        return True\n",
    "    else:\n",
    "        return False\n",
    "\n",
    "def eliminate(div):\n",
    "    for idx, num in enumerate(numbers):\n",
    "        if num % div == 0 :\n",
    "            del numbers[idx]\n",
    "\n",
    "# print(boolean(3))\n",
    "numbers = [x for x in range(m, n + 1)]\n",
    "\n",
    "odd_num = []\n",
    "\n",
    "for num in range(2, 10):\n",
    "    if boolean(num):\n",
    "        odd_num.append(num)\n",
    "        eliminate(num)\n",
    "        # print(num)\n",
    "\n",
    "ans = odd_num + numbers\n",
    "\n",
    "for elem in ans :\n",
    "    print(elem)"
   ],
   "metadata": {
    "collapsed": false,
    "pycharm": {
     "name": "#%%\n"
    }
   }
  },
  {
   "cell_type": "markdown",
   "source": [
    "위의 풀이는 출력 초과에 걸린다"
   ],
   "metadata": {
    "collapsed": false
   }
  },
  {
   "cell_type": "code",
   "execution_count": null,
   "outputs": [],
   "source": [
    "m, n = map(int, input().split())\n",
    "\n",
    "def eliminate(div):\n",
    "    for idx, num in enumerate(numbers):\n",
    "        if num == div:\n",
    "            continue\n",
    "        if num % div == 0:\n",
    "            del numbers[idx]\n",
    "\n",
    "# print(boolean(3))\n",
    "numbers = [x for x in range(m, n + 1)]\n",
    "\n",
    "odd_num = [2, 3, 5, 7]\n",
    "\n",
    "for num in odd_num:\n",
    "    eliminate(num)\n",
    "    # print(num)\n",
    "\n",
    "for elem in numbers:\n",
    "    print(elem)"
   ],
   "metadata": {
    "collapsed": false,
    "pycharm": {
     "name": "#%%\n"
    }
   }
  },
  {
   "cell_type": "markdown",
   "source": [
    "위의 풀이도 출력 초과에 걸린다."
   ],
   "metadata": {
    "collapsed": false
   }
  },
  {
   "cell_type": "markdown",
   "source": [
    "아래는 강사님 풀이"
   ],
   "metadata": {
    "collapsed": false
   }
  },
  {
   "cell_type": "code",
   "execution_count": null,
   "outputs": [],
   "source": [
    "max = 1000000\n",
    "\n",
    "check = [False]*(max+1)\n",
    "check[0] = check[1] = True\n",
    "\n",
    "for i in range(2, max+1):\n",
    "    if not check[i]:\n",
    "        j = i+i\n",
    "        while j <= max :\n",
    "            check[j] = True\n",
    "            j += i\n",
    "\n",
    "m, n = map(int, input().split())\n",
    "numbers = [x for x in range(m, n + 1)]\n",
    "\n",
    "for num in numbers:\n",
    "    if not check[num] :\n",
    "        print(num)"
   ],
   "metadata": {
    "collapsed": false,
    "pycharm": {
     "name": "#%%\n"
    }
   }
  },
  {
   "cell_type": "code",
   "execution_count": 3,
   "outputs": [
    {
     "ename": "ValueError",
     "evalue": "invalid literal for int() with base 10: '5-'",
     "output_type": "error",
     "traceback": [
      "\u001B[0;31m---------------------------------------------------------------------------\u001B[0m",
      "\u001B[0;31mValueError\u001B[0m                                Traceback (most recent call last)",
      "\u001B[0;32m/var/folders/3p/vhd92h0x7cb73w5m2xzsn2jr0000gn/T/ipykernel_10144/3656593277.py\u001B[0m in \u001B[0;36m<module>\u001B[0;34m\u001B[0m\n\u001B[0;32m----> 1\u001B[0;31m \u001B[0mm\u001B[0m\u001B[0;34m,\u001B[0m \u001B[0mn\u001B[0m \u001B[0;34m=\u001B[0m \u001B[0mmap\u001B[0m\u001B[0;34m(\u001B[0m\u001B[0mint\u001B[0m\u001B[0;34m,\u001B[0m \u001B[0minput\u001B[0m\u001B[0;34m(\u001B[0m\u001B[0;34m)\u001B[0m\u001B[0;34m.\u001B[0m\u001B[0msplit\u001B[0m\u001B[0;34m(\u001B[0m\u001B[0;34m)\u001B[0m\u001B[0;34m)\u001B[0m\u001B[0;34m\u001B[0m\u001B[0;34m\u001B[0m\u001B[0m\n\u001B[0m\u001B[1;32m      2\u001B[0m \u001B[0mnumbers\u001B[0m \u001B[0;34m=\u001B[0m \u001B[0;34m[\u001B[0m\u001B[0mx\u001B[0m \u001B[0;32mfor\u001B[0m \u001B[0mx\u001B[0m \u001B[0;32min\u001B[0m \u001B[0mrange\u001B[0m\u001B[0;34m(\u001B[0m\u001B[0mm\u001B[0m\u001B[0;34m,\u001B[0m \u001B[0mn\u001B[0m \u001B[0;34m+\u001B[0m \u001B[0;36m1\u001B[0m\u001B[0;34m)\u001B[0m\u001B[0;34m]\u001B[0m\u001B[0;34m\u001B[0m\u001B[0;34m\u001B[0m\u001B[0m\n\u001B[1;32m      3\u001B[0m \u001B[0;34m\u001B[0m\u001B[0m\n\u001B[1;32m      4\u001B[0m \u001B[0mch\u001B[0m \u001B[0;34m=\u001B[0m \u001B[0;34m[\u001B[0m\u001B[0;32mFalse\u001B[0m\u001B[0;34m]\u001B[0m\u001B[0;34m*\u001B[0m\u001B[0;34m(\u001B[0m\u001B[0mn\u001B[0m\u001B[0;34m+\u001B[0m\u001B[0;36m1\u001B[0m\u001B[0;34m)\u001B[0m\u001B[0;34m\u001B[0m\u001B[0;34m\u001B[0m\u001B[0m\n\u001B[1;32m      5\u001B[0m \u001B[0mch\u001B[0m\u001B[0;34m[\u001B[0m\u001B[0;36m0\u001B[0m\u001B[0;34m]\u001B[0m \u001B[0;34m=\u001B[0m \u001B[0mch\u001B[0m\u001B[0;34m[\u001B[0m\u001B[0;36m1\u001B[0m\u001B[0;34m]\u001B[0m \u001B[0;34m=\u001B[0m \u001B[0;32mTrue\u001B[0m\u001B[0;34m\u001B[0m\u001B[0;34m\u001B[0m\u001B[0m\n",
      "\u001B[0;31mValueError\u001B[0m: invalid literal for int() with base 10: '5-'"
     ]
    }
   ],
   "source": [
    "m, n = map(int, input().split())\n",
    "numbers = [x for x in range(m, n + 1)]\n",
    "\n",
    "ch = [False]*(n+1)\n",
    "ch[0] = ch[1] = True\n",
    "\n",
    "for i in range(2,n+1):\n",
    "    if not ch[i]:\n",
    "        for j in range(i, n+1, i):\n",
    "            ch[j] = True\n",
    "\n",
    "for num in numbers:\n",
    "    if not ch[num] :\n",
    "        print(num)"
   ],
   "metadata": {
    "collapsed": false,
    "pycharm": {
     "name": "#%%\n"
    }
   }
  },
  {
   "cell_type": "markdown",
   "source": [],
   "metadata": {
    "collapsed": false
   }
  }
 ],
 "metadata": {
  "kernelspec": {
   "display_name": "Python 3",
   "language": "python",
   "name": "python3"
  },
  "language_info": {
   "codemirror_mode": {
    "name": "ipython",
    "version": 2
   },
   "file_extension": ".py",
   "mimetype": "text/x-python",
   "name": "python",
   "nbconvert_exporter": "python",
   "pygments_lexer": "ipython2",
   "version": "2.7.6"
  }
 },
 "nbformat": 4,
 "nbformat_minor": 0
}