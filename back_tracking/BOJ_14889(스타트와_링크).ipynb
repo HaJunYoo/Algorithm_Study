{
 "cells": [
  {
   "cell_type": "code",
   "execution_count": 33,
   "id": "4482a632",
   "metadata": {
    "ExecuteTime": {
     "end_time": "2022-10-02T15:15:05.274618Z",
     "start_time": "2022-10-02T15:14:25.957382Z"
    }
   },
   "outputs": [
    {
     "name": "stdout",
     "output_type": "stream",
     "text": [
      "8\n",
      "0 5 4 5 4 5 4 5\n",
      "4 0 5 1 2 3 4 5\n",
      "9 8 0 1 2 3 1 2\n",
      "9 9 9 0 9 9 9 9\n",
      "1 1 1 1 0 1 1 1\n",
      "8 7 6 5 4 0 3 2\n",
      "9 1 9 1 9 1 0 9\n",
      "6 5 4 3 2 1 9 0\n"
     ]
    }
   ],
   "source": [
    "n = int(input())\n",
    "numbers = []\n",
    "for _ in range(n):\n",
    "    numbers.append(list(map(int, input().split())))\n"
   ]
  },
  {
   "cell_type": "code",
   "execution_count": 34,
   "id": "f6b81dd4",
   "metadata": {
    "ExecuteTime": {
     "end_time": "2022-10-02T15:15:07.777541Z",
     "start_time": "2022-10-02T15:15:07.760148Z"
    }
   },
   "outputs": [
    {
     "data": {
      "text/plain": [
       "[[0, 5, 4, 5, 4, 5, 4, 5],\n",
       " [4, 0, 5, 1, 2, 3, 4, 5],\n",
       " [9, 8, 0, 1, 2, 3, 1, 2],\n",
       " [9, 9, 9, 0, 9, 9, 9, 9],\n",
       " [1, 1, 1, 1, 0, 1, 1, 1],\n",
       " [8, 7, 6, 5, 4, 0, 3, 2],\n",
       " [9, 1, 9, 1, 9, 1, 0, 9],\n",
       " [6, 5, 4, 3, 2, 1, 9, 0]]"
      ]
     },
     "execution_count": 34,
     "metadata": {},
     "output_type": "execute_result"
    }
   ],
   "source": [
    "numbers"
   ]
  },
  {
   "cell_type": "code",
   "execution_count": 35,
   "id": "2149297a",
   "metadata": {
    "ExecuteTime": {
     "end_time": "2022-10-02T15:15:11.173995Z",
     "start_time": "2022-10-02T15:15:11.164881Z"
    }
   },
   "outputs": [],
   "source": [
    "team = []\n",
    "visited = [False]*n"
   ]
  },
  {
   "cell_type": "code",
   "execution_count": 36,
   "id": "ea2607bc",
   "metadata": {
    "ExecuteTime": {
     "end_time": "2022-10-02T15:15:11.983462Z",
     "start_time": "2022-10-02T15:15:11.960168Z"
    }
   },
   "outputs": [],
   "source": [
    "from itertools import combinations\n",
    "\n",
    "num_list = set([i for i in range(n)])\n",
    "\n",
    "def calculate():\n",
    "    S1 = 0\n",
    "    S2 = 0\n",
    "    opp = list(num_list - set(team))\n",
    "    \n",
    "    for elem in combinations(team, 2):\n",
    "        i = elem[0]\n",
    "        j = elem[1]\n",
    "        temp = numbers[i][j] + numbers[j][i]\n",
    "        S1 += temp\n",
    "    \n",
    "        \n",
    "    for elem in combinations(opp, 2):\n",
    "        i = elem[0]\n",
    "        j = elem[1]\n",
    "        temp = numbers[i][j] + numbers[j][i]\n",
    "        S2 += temp\n",
    "    \n",
    "    res = abs(S1-S2)\n",
    "    \n",
    "    return res\n",
    "    \n",
    "    "
   ]
  },
  {
   "cell_type": "code",
   "execution_count": 37,
   "id": "bd4ce406",
   "metadata": {
    "ExecuteTime": {
     "end_time": "2022-10-02T15:15:12.373623Z",
     "start_time": "2022-10-02T15:15:12.354794Z"
    }
   },
   "outputs": [],
   "source": [
    "ans = 10000000000\n",
    "\n",
    "def choice(cnt):\n",
    "    global ans\n",
    "    \n",
    "    if cnt==n//2:\n",
    "        temp = calculate()\n",
    "        ans = min(temp, ans)\n",
    "        return\n",
    "    \n",
    "    for i in range(n):\n",
    "        if not visited[i]:\n",
    "            visited[i] = True\n",
    "            team.append(i)\n",
    "            choice(cnt+1)\n",
    "            team.pop()\n",
    "            visited[i] = False\n",
    "        else:\n",
    "            continue\n",
    "    \n",
    "        "
   ]
  },
  {
   "cell_type": "code",
   "execution_count": 38,
   "id": "4e25589a",
   "metadata": {
    "ExecuteTime": {
     "end_time": "2022-10-02T15:15:12.962900Z",
     "start_time": "2022-10-02T15:15:12.933192Z"
    }
   },
   "outputs": [],
   "source": [
    "choice(0)"
   ]
  },
  {
   "cell_type": "code",
   "execution_count": 39,
   "id": "0ac5c438",
   "metadata": {
    "ExecuteTime": {
     "end_time": "2022-10-02T15:15:13.331467Z",
     "start_time": "2022-10-02T15:15:13.316708Z"
    }
   },
   "outputs": [
    {
     "name": "stdout",
     "output_type": "stream",
     "text": [
      "1\n"
     ]
    }
   ],
   "source": [
    "print(ans)"
   ]
  },
  {
   "cell_type": "markdown",
   "id": "37ea2071",
   "metadata": {},
   "source": [
    "### 풀이 1"
   ]
  },
  {
   "cell_type": "code",
   "execution_count": 40,
   "id": "363e6ab1",
   "metadata": {
    "ExecuteTime": {
     "end_time": "2022-10-02T15:17:29.275897Z",
     "start_time": "2022-10-02T15:16:44.986535Z"
    }
   },
   "outputs": [
    {
     "name": "stdout",
     "output_type": "stream",
     "text": [
      "8\n",
      "0 5 4 5 4 5 4 5\n",
      "4 0 5 1 2 3 4 5\n",
      "9 8 0 1 2 3 1 2\n",
      "9 9 9 0 9 9 9 9\n",
      "1 1 1 1 0 1 1 1\n",
      "8 7 6 5 4 0 3 2\n",
      "9 1 9 1 9 1 0 9\n",
      "6 5 4 3 2 1 9 0\n",
      "1\n"
     ]
    }
   ],
   "source": [
    "from itertools import combinations\n",
    "\n",
    "n = int(input())\n",
    "numbers = []\n",
    "for _ in range(n):\n",
    "    numbers.append(list(map(int, input().split())))\n",
    "\n",
    "team = []\n",
    "visited = [False]*n\n",
    "\n",
    "num_list = set([i for i in range(n)])\n",
    "\n",
    "ans = 10000000000\n",
    "\n",
    "def calculate():\n",
    "    S1 = 0\n",
    "    S2 = 0\n",
    "    opp = list(num_list - set(team))\n",
    "    \n",
    "    for elem in combinations(team, 2):\n",
    "        i = elem[0]\n",
    "        j = elem[1]\n",
    "        temp = numbers[i][j] + numbers[j][i]\n",
    "        S1 += temp\n",
    "    \n",
    "        \n",
    "    for elem in combinations(opp, 2):\n",
    "        i = elem[0]\n",
    "        j = elem[1]\n",
    "        temp = numbers[i][j] + numbers[j][i]\n",
    "        S2 += temp\n",
    "    \n",
    "    res = abs(S1-S2)\n",
    "    \n",
    "    return res\n",
    "\n",
    "def choice(cnt):\n",
    "    global ans\n",
    "    \n",
    "    if cnt==n//2:\n",
    "        temp = calculate()\n",
    "        ans = min(temp, ans)\n",
    "        return\n",
    "    \n",
    "    for i in range(n):\n",
    "        if not visited[i]:\n",
    "            visited[i] = True\n",
    "            team.append(i)\n",
    "            choice(cnt+1)\n",
    "            team.pop()\n",
    "            visited[i] = False\n",
    "        else:\n",
    "            continue\n",
    "    \n",
    "choice(0)\n",
    "\n",
    "print(ans)"
   ]
  },
  {
   "cell_type": "code",
   "execution_count": null,
   "id": "848edc1f",
   "metadata": {},
   "outputs": [],
   "source": []
  }
 ],
 "metadata": {
  "kernelspec": {
   "display_name": "Python 3 (ipykernel)",
   "language": "python",
   "name": "python3"
  },
  "language_info": {
   "codemirror_mode": {
    "name": "ipython",
    "version": 3
   },
   "file_extension": ".py",
   "mimetype": "text/x-python",
   "name": "python",
   "nbconvert_exporter": "python",
   "pygments_lexer": "ipython3",
   "version": "3.7.11"
  },
  "toc": {
   "base_numbering": 1,
   "nav_menu": {},
   "number_sections": true,
   "sideBar": true,
   "skip_h1_title": false,
   "title_cell": "Table of Contents",
   "title_sidebar": "Contents",
   "toc_cell": false,
   "toc_position": {},
   "toc_section_display": true,
   "toc_window_display": false
  },
  "varInspector": {
   "cols": {
    "lenName": 16,
    "lenType": 16,
    "lenVar": 40
   },
   "kernels_config": {
    "python": {
     "delete_cmd_postfix": "",
     "delete_cmd_prefix": "del ",
     "library": "var_list.py",
     "varRefreshCmd": "print(var_dic_list())"
    },
    "r": {
     "delete_cmd_postfix": ") ",
     "delete_cmd_prefix": "rm(",
     "library": "var_list.r",
     "varRefreshCmd": "cat(var_dic_list()) "
    }
   },
   "types_to_exclude": [
    "module",
    "function",
    "builtin_function_or_method",
    "instance",
    "_Feature"
   ],
   "window_display": false
  }
 },
 "nbformat": 4,
 "nbformat_minor": 5
}
