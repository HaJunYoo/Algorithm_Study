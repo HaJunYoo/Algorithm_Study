{
 "cells": [
  {
   "cell_type": "markdown",
   "source": [
    "#### Algorithm to compute $X^+$ (the closure of $X$) under $F$:\n",
    "\n",
    "<hr>\n",
    "$X^{+}$ := $X$ <br/>\n",
    "<b>repeat</b> <br/>\n",
    "&nbsp;&nbsp;&nbsp;&nbsp; $oldX^{+}$ := $X^{+}$ <br/>\n",
    "&nbsp;&nbsp;&nbsp;&nbsp; <b>for each</b> functional dependency $Y \\rightarrow Z$ in $F$ <b>do</b> <br/>\n",
    "&nbsp;&nbsp;&nbsp;&nbsp;&nbsp;&nbsp;&nbsp;&nbsp;<b>if</b> $Y \\subseteq X^{+}$ then $X^{+}$ := $X^{+} \\cup Z$ <br/>\n",
    "<b>until</b> ($oldX^{+}$ = $X^{+}$) <br/>\n",
    "<hr>"
   ],
   "metadata": {
    "collapsed": false
   }
  },
  {
   "cell_type": "code",
   "execution_count": 1,
   "metadata": {
    "collapsed": true
   },
   "outputs": [],
   "source": [
    "def xplus(X, F):\n",
    "  closure = X\n",
    "  oldX = {}\n",
    "  flag = True\n",
    "  while flag :\n",
    "    oldX = closure # initialize\n",
    "\n",
    "\n",
    "    for i in range(0, len(F)):\n",
    "      if F[i%len(F)][0].issubset(closure) : # [0 | 1 | 2] [0]\n",
    "\n",
    "        z = F[i%len(F)][1]\n",
    "        closure = closure.union(z)\n",
    "\n",
    "    if oldX == closure :\n",
    "      flag = False\n",
    "\n",
    "\n",
    "  return closure"
   ]
  },
  {
   "cell_type": "code",
   "execution_count": 2,
   "outputs": [],
   "source": [
    "def is_superkey(K, S, F):\n",
    "  if xplus(K, F) == S :\n",
    "    return True\n",
    "  else :\n",
    "    return False"
   ],
   "metadata": {
    "collapsed": false,
    "pycharm": {
     "name": "#%%\n"
    }
   }
  },
  {
   "cell_type": "code",
   "execution_count": 3,
   "outputs": [],
   "source": [
    "from itertools import combinations\n",
    "\n",
    "def is_candidkey(K, S, F):\n",
    "# YOUR CODE HERE\n",
    "  if xplus(K, F) == S :\n",
    "    for i in range(1,len(K)): # key보다 진부분집합 중에서\n",
    "      for subset in combinations(K ,i):\n",
    "        subset = set(subset)\n",
    "        if xplus(subset, F) == S :\n",
    "          return False\n",
    "    return True\n",
    "  else :\n",
    "    return False"
   ],
   "metadata": {
    "collapsed": false,
    "pycharm": {
     "name": "#%%\n"
    }
   }
  },
  {
   "cell_type": "code",
   "execution_count": 4,
   "outputs": [],
   "source": [
    "# RUN THIS CELL\n",
    "\n",
    "# Schema\n",
    "S = {'A', 'B', 'C', 'D', 'E'}\n",
    "\n",
    "# 3 Functional dependencies: 1st part functionally determines the 2nd part\n",
    "F = [({'A'}, {'B','C'}),\n",
    "     ({'C','D'}, {'E'}),\n",
    "     ({'B'}, {'D'}),\n",
    "     ({'E'}, {'A'})]"
   ],
   "metadata": {
    "collapsed": false,
    "pycharm": {
     "name": "#%%\n"
    }
   }
  },
  {
   "cell_type": "code",
   "execution_count": 5,
   "outputs": [
    {
     "name": "stdout",
     "output_type": "stream",
     "text": [
      "{'A', 'E', 'D', 'C', 'B'}\n"
     ]
    }
   ],
   "source": [
    "print(xplus({'A'}, F))"
   ],
   "metadata": {
    "collapsed": false,
    "pycharm": {
     "name": "#%%\n"
    }
   }
  },
  {
   "cell_type": "code",
   "execution_count": 6,
   "outputs": [
    {
     "name": "stdout",
     "output_type": "stream",
     "text": [
      "True\n"
     ]
    }
   ],
   "source": [
    "print(is_candidkey({'A'}, S, F))"
   ],
   "metadata": {
    "collapsed": false,
    "pycharm": {
     "name": "#%%\n"
    }
   }
  },
  {
   "cell_type": "code",
   "execution_count": 7,
   "outputs": [
    {
     "name": "stdout",
     "output_type": "stream",
     "text": [
      "True\n"
     ]
    }
   ],
   "source": [
    "print(is_candidkey({'E'}, S, F))"
   ],
   "metadata": {
    "collapsed": false,
    "pycharm": {
     "name": "#%%\n"
    }
   }
  },
  {
   "cell_type": "code",
   "execution_count": 8,
   "outputs": [
    {
     "name": "stdout",
     "output_type": "stream",
     "text": [
      "False\n"
     ]
    }
   ],
   "source": [
    "print(is_candidkey({'B'}, S, F))"
   ],
   "metadata": {
    "collapsed": false,
    "pycharm": {
     "name": "#%%\n"
    }
   }
  },
  {
   "cell_type": "code",
   "execution_count": null,
   "outputs": [],
   "source": [],
   "metadata": {
    "collapsed": false,
    "pycharm": {
     "name": "#%%\n"
    }
   }
  }
 ],
 "metadata": {
  "kernelspec": {
   "display_name": "Python 3",
   "language": "python",
   "name": "python3"
  },
  "language_info": {
   "codemirror_mode": {
    "name": "ipython",
    "version": 2
   },
   "file_extension": ".py",
   "mimetype": "text/x-python",
   "name": "python",
   "nbconvert_exporter": "python",
   "pygments_lexer": "ipython2",
   "version": "2.7.6"
  }
 },
 "nbformat": 4,
 "nbformat_minor": 0
}